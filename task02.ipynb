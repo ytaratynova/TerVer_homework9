{
 "cells": [
  {
   "cell_type": "code",
   "execution_count": 1,
   "id": "d6874339",
   "metadata": {},
   "outputs": [],
   "source": [
    "#  Даны значения величины заработной платы заемщиков банка (zp) и значения их\n",
    "# поведенческого кредитного скоринга (ks): zp = [35, 45, 190, 200, 40, 70, 54, 150, 120, 110],\n",
    "# ks = [401, 574, 874, 919, 459, 739, 653, 902, 746, 832]. \n",
    "# Посчитать коэффициент линейной регрессии при заработной плате (zp), используя\n",
    "# градиентный спуск (без intercept)."
   ]
  },
  {
   "cell_type": "code",
   "execution_count": 2,
   "id": "669389fa",
   "metadata": {},
   "outputs": [],
   "source": [
    "import numpy as np"
   ]
  },
  {
   "cell_type": "code",
   "execution_count": 39,
   "id": "4c01d47e",
   "metadata": {},
   "outputs": [],
   "source": [
    "# без использования intercept\n",
    "zp = np.array([35, 45, 190, 200, 40, 70, 54, 150, 120, 110])\n",
    "ks = np.array([401, 574, 874, 919, 459, 739, 653, 902, 746, 832])\n",
    "\n",
    "n = 10\n",
    "\n",
    "alpha = 1e-10"
   ]
  },
  {
   "cell_type": "code",
   "execution_count": 40,
   "id": "ba392ea3",
   "metadata": {},
   "outputs": [],
   "source": [
    "mse = 1/n * np.sum((b1*zp + b0 - ks)**2)\n",
    "mse_ = 2/n * np.sum((b1*zp + b0- ks)*zp)"
   ]
  },
  {
   "cell_type": "code",
   "execution_count": 42,
   "id": "eb861508",
   "metadata": {},
   "outputs": [
    {
     "name": "stdout",
     "output_type": "stream",
     "text": [
      "2.6205389051628263\n",
      "2.6205389051627637\n",
      "2.620538905162701\n",
      "2.6205389051626384\n",
      "2.620538905162576\n",
      "2.620538905162513\n",
      "2.6205389051624506\n",
      "2.620538905162388\n",
      "2.6205389051623253\n",
      "2.6205389051622627\n",
      "2.6205389051622\n",
      "2.6205389051621375\n",
      "2.620538905162075\n",
      "2.6205389051620123\n",
      "2.6205389051619496\n",
      "2.620538905161887\n",
      "2.6205389051618244\n",
      "2.620538905161762\n",
      "2.620538905161699\n",
      "2.6205389051616366\n"
     ]
    }
   ],
   "source": [
    "for i in range (20):\n",
    "    b1 -= alpha*(2/n)*np.sum((b1*zp + b0 - ks)*zp)\n",
    "    print(b1)"
   ]
  },
  {
   "cell_type": "code",
   "execution_count": null,
   "id": "8c32e4b5",
   "metadata": {},
   "outputs": [],
   "source": []
  }
 ],
 "metadata": {
  "kernelspec": {
   "display_name": "Python 3 (ipykernel)",
   "language": "python",
   "name": "python3"
  },
  "language_info": {
   "codemirror_mode": {
    "name": "ipython",
    "version": 3
   },
   "file_extension": ".py",
   "mimetype": "text/x-python",
   "name": "python",
   "nbconvert_exporter": "python",
   "pygments_lexer": "ipython3",
   "version": "3.10.9"
  }
 },
 "nbformat": 4,
 "nbformat_minor": 5
}
